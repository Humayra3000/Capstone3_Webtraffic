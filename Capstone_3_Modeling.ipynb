{
 "cells": [
  {
   "cell_type": "code",
   "execution_count": 177,
   "id": "bcc6af22-c303-4f14-ab0d-ed5ea3bb76f1",
   "metadata": {},
   "outputs": [],
   "source": [
    "import pandas as pd\n",
    "import matplotlib.pyplot as plt\n",
    "from sklearn.preprocessing import StandardScaler, MinMaxScaler\n",
    "from sklearn.model_selection import train_test_split\n",
    "from sklearn.ensemble import RandomForestClassifier\n",
    "from sklearn.metrics import accuracy_score, classification_report, confusion_matrix, ConfusionMatrixDisplay, recall_score, precision_score\n",
    "from sklearn.impute import SimpleImputer\n",
    "from sklearn.model_selection import GridSearchCV\n",
    "from sklearn.linear_model import LogisticRegression\n",
    "from sklearn.pipeline import make_pipeline\n",
    "import warnings\n",
    "warnings.filterwarnings('ignore')\n",
    "import xgboost as xgb\n",
    "from sklearn.model_selection import GridSearchCV\n",
    "from sklearn.model_selection import train_test_split, cross_val_score\n",
    "from sklearn.metrics import f1_score"
   ]
  },
  {
   "cell_type": "code",
   "execution_count": 178,
   "id": "b5388789-26e5-40d9-b1d1-1df65aca1eef",
   "metadata": {},
   "outputs": [],
   "source": [
    "# Load Data\n",
    "df = pd.read_csv('web_traffic.csv') \n",
    "df['Timestamp'] = pd.to_datetime(df['Timestamp'])"
   ]
  },
  {
   "cell_type": "code",
   "execution_count": 179,
   "id": "eb75fd4f-60a7-4bf2-b265-8d3e1752ecc8",
   "metadata": {},
   "outputs": [],
   "source": [
    "# Create new timestamp\n",
    "df['Hour'] = df['Timestamp'].dt.hour\n",
    "df['DayOfWeek'] = df['Timestamp'].dt.dayofweek\n",
    "df['Month'] = df['Timestamp'].dt.month"
   ]
  },
  {
   "cell_type": "code",
   "execution_count": 180,
   "id": "dc84a26d-8315-4021-afd0-4d8b7d8e8372",
   "metadata": {},
   "outputs": [
    {
     "data": {
      "text/html": [
       "<div>\n",
       "<style scoped>\n",
       "    .dataframe tbody tr th:only-of-type {\n",
       "        vertical-align: middle;\n",
       "    }\n",
       "\n",
       "    .dataframe tbody tr th {\n",
       "        vertical-align: top;\n",
       "    }\n",
       "\n",
       "    .dataframe thead th {\n",
       "        text-align: right;\n",
       "    }\n",
       "</style>\n",
       "<table border=\"1\" class=\"dataframe\">\n",
       "  <thead>\n",
       "    <tr style=\"text-align: right;\">\n",
       "      <th></th>\n",
       "      <th>Timestamp</th>\n",
       "      <th>TrafficCount</th>\n",
       "      <th>Hour</th>\n",
       "      <th>DayOfWeek</th>\n",
       "      <th>Month</th>\n",
       "    </tr>\n",
       "  </thead>\n",
       "  <tbody>\n",
       "    <tr>\n",
       "      <th>0</th>\n",
       "      <td>2020-01-20 00:00:00</td>\n",
       "      <td>487.0</td>\n",
       "      <td>0</td>\n",
       "      <td>0</td>\n",
       "      <td>1</td>\n",
       "    </tr>\n",
       "    <tr>\n",
       "      <th>1</th>\n",
       "      <td>2020-01-20 00:30:00</td>\n",
       "      <td>385.0</td>\n",
       "      <td>0</td>\n",
       "      <td>0</td>\n",
       "      <td>1</td>\n",
       "    </tr>\n",
       "    <tr>\n",
       "      <th>2</th>\n",
       "      <td>2020-01-20 01:30:00</td>\n",
       "      <td>269.0</td>\n",
       "      <td>1</td>\n",
       "      <td>0</td>\n",
       "      <td>1</td>\n",
       "    </tr>\n",
       "    <tr>\n",
       "      <th>3</th>\n",
       "      <td>2020-01-20 02:30:00</td>\n",
       "      <td>517.0</td>\n",
       "      <td>2</td>\n",
       "      <td>0</td>\n",
       "      <td>1</td>\n",
       "    </tr>\n",
       "    <tr>\n",
       "      <th>4</th>\n",
       "      <td>2020-01-20 03:30:00</td>\n",
       "      <td>129.0</td>\n",
       "      <td>3</td>\n",
       "      <td>0</td>\n",
       "      <td>1</td>\n",
       "    </tr>\n",
       "  </tbody>\n",
       "</table>\n",
       "</div>"
      ],
      "text/plain": [
       "            Timestamp  TrafficCount  Hour  DayOfWeek  Month\n",
       "0 2020-01-20 00:00:00         487.0     0          0      1\n",
       "1 2020-01-20 00:30:00         385.0     0          0      1\n",
       "2 2020-01-20 01:30:00         269.0     1          0      1\n",
       "3 2020-01-20 02:30:00         517.0     2          0      1\n",
       "4 2020-01-20 03:30:00         129.0     3          0      1"
      ]
     },
     "execution_count": 180,
     "metadata": {},
     "output_type": "execute_result"
    }
   ],
   "source": [
    "df.head()"
   ]
  },
  {
   "cell_type": "code",
   "execution_count": 204,
   "id": "020fed2b-1e88-4db3-97b6-a0a65b84320c",
   "metadata": {},
   "outputs": [],
   "source": [
    "# Select features (independent variables)\n",
    "#X = df[['Hour', 'DayOfWeek', 'Month']]\n",
    "\n",
    "# Set the target variable\n",
    "# We'll convert 'TrafficCount' to a binary classification: 1 = high traffic, 0 = low traffic\n",
    "df['target'] = (df['TrafficCount'] > df['TrafficCount'].median()).astype(int)"
   ]
  },
  {
   "cell_type": "code",
   "execution_count": 206,
   "id": "9d769bcb-0e04-40cb-b188-d988ef18077c",
   "metadata": {},
   "outputs": [],
   "source": [
    "# Keeping the split sequencial\n",
    "df = df.sort_index()\n",
    "split_index = int(len(df) * 0.7)\n",
    "train = df.iloc[:split_index]\n",
    "test = df.iloc[split_index:]"
   ]
  },
  {
   "cell_type": "code",
   "execution_count": 208,
   "id": "32bdb14c-eeca-49ea-b571-b8c1105dee67",
   "metadata": {},
   "outputs": [],
   "source": [
    "# Split data into training and testing sets (70% train, 30% test)\n",
    "#X_train, X_test, y_train, y_test = train_test_split(X, y, test_size=0.3, random_state=42)"
   ]
  },
  {
   "cell_type": "code",
   "execution_count": 210,
   "id": "c02469c2-1f13-441a-8624-fbf22a8a3d3a",
   "metadata": {},
   "outputs": [
    {
     "name": "stdout",
     "output_type": "stream",
     "text": [
      "Train range: 0 to 1954\n",
      "Test range: 1955 to 2792\n"
     ]
    }
   ],
   "source": [
    "# Making sure the split remained sequential \n",
    "print(\"Train range:\", train.index.min(), \"to\", train.index.max())\n",
    "print(\"Test range:\", test.index.min(), \"to\", test.index.max())"
   ]
  },
  {
   "cell_type": "code",
   "execution_count": 216,
   "id": "f5800ed5-88c6-4da2-840e-df1caf685fc2",
   "metadata": {},
   "outputs": [],
   "source": [
    "X_train=train[['Hour', 'DayOfWeek', 'Month']]\n",
    "y_train=train['target']\n",
    "X_test=test[['Hour', 'DayOfWeek', 'Month']]\n",
    "y_test=test['target']"
   ]
  },
  {
   "cell_type": "code",
   "execution_count": 218,
   "id": "c16ea44a-0515-43e7-9a77-28cf36de481c",
   "metadata": {},
   "outputs": [
    {
     "name": "stdout",
     "output_type": "stream",
     "text": [
      "Best hyperparameters are {'max_depth': 7, 'max_features': 10, 'min_samples_leaf': 4, 'n_estimators': 100}\n",
      "Best score is: 0.9641875484939012\n"
     ]
    }
   ],
   "source": [
    "rf_grid = RandomForestClassifier()\n",
    "gr_space = {\n",
    "    'max_depth': [3,5,7,10],\n",
    "    'n_estimators': [100, 200, 300, 400, 500],\n",
    "    'max_features': [10, 20, 30 , 40],\n",
    "    'min_samples_leaf': [1, 2, 4]\n",
    "}\n",
    "\n",
    "grid = GridSearchCV(rf_grid, gr_space, cv = 3, scoring='accuracy')\n",
    "model_grid = grid.fit(X_train, y_train)\n",
    "\n",
    "print('Best hyperparameters are '+str(model_grid.best_params_))\n",
    "print('Best score is: ' + str(model_grid.best_score_))"
   ]
  },
  {
   "cell_type": "code",
   "execution_count": 220,
   "id": "d1f80565-41ff-4d4e-9fb3-2f0782f94c4e",
   "metadata": {},
   "outputs": [],
   "source": [
    "# Initialize the RandomForestClassifier\n",
    "rf_model = RandomForestClassifier(n_estimators=100, max_depth= 7, max_features=10, min_samples_leaf=4)\n",
    "\n",
    "# Fit the model to the training data\n",
    "rf_model.fit(X_train, y_train)\n",
    "\n",
    "# Make predictions on the test data\n",
    "y_pred = rf_model.predict(X_test)"
   ]
  },
  {
   "cell_type": "code",
   "execution_count": 222,
   "id": "20d9ed15-0ae5-4a23-a91e-13bb2caa4a4b",
   "metadata": {},
   "outputs": [
    {
     "name": "stdout",
     "output_type": "stream",
     "text": [
      "Accuracy: 0.94\n",
      "Classification Report:\n",
      "              precision    recall  f1-score   support\n",
      "\n",
      "           0       0.83      0.98      0.90       363\n",
      "           1       0.98      0.85      0.91       475\n",
      "\n",
      "    accuracy                           0.90       838\n",
      "   macro avg       0.90      0.91      0.90       838\n",
      "weighted avg       0.92      0.90      0.90       838\n",
      "\n",
      "Confusion Matrix:\n",
      "[[355   8]\n",
      " [ 73 402]]\n"
     ]
    }
   ],
   "source": [
    "# Calculate accuracy\n",
    "accuracy_rf = accuracy_score(y_test, y_pred)\n",
    "print(f'Accuracy: {accuracy:.2f}')\n",
    "\n",
    "# Print classification report\n",
    "print('Classification Report:')\n",
    "print(classification_report(y_test, y_pred))\n",
    "\n",
    "# Print confusion matrix\n",
    "print('Confusion Matrix:')\n",
    "print(confusion_matrix(y_test, y_pred))"
   ]
  },
  {
   "cell_type": "code",
   "execution_count": 224,
   "id": "5548646c-181a-4233-8953-653a018c37e8",
   "metadata": {},
   "outputs": [
    {
     "name": "stdout",
     "output_type": "stream",
     "text": [
      "Recall score: 0.8463157894736842\n",
      "Precision score: 0.9804878048780488\n",
      "f1 score: 0.9037631139240856\n"
     ]
    }
   ],
   "source": [
    "print(\"Recall score:\", recall_score(y_test, y_pred))\n",
    "print(\"Precision score:\", precision_score(y_test, y_pred))\n",
    "\n",
    "f1_rf=f1_score(y_test, y_pred,average='weighted')\n",
    "print(\"f1 score:\",f1_rf)"
   ]
  },
  {
   "cell_type": "markdown",
   "id": "d7d84a4b-8505-418c-98ac-fa11794691a3",
   "metadata": {},
   "source": [
    "**XGBoost**"
   ]
  },
  {
   "cell_type": "code",
   "execution_count": 226,
   "id": "339b71c8-b1b6-4ebb-a79c-1f25c9f0f1de",
   "metadata": {},
   "outputs": [
    {
     "name": "stdout",
     "output_type": "stream",
     "text": [
      "Best set of hyperparameters:  {'learning_rate': 0.1, 'max_depth': 3, 'subsample': 0.5}\n",
      "Best score:  0.9652173913043478\n"
     ]
    }
   ],
   "source": [
    "# Define the hyperparameter grid\n",
    "param_grid = {\n",
    "    'max_depth': [3, 5, 7],\n",
    "    'learning_rate': [0.1, 0.01, 0.001],\n",
    "    'subsample': [0.5, 0.7, 1]\n",
    "}\n",
    "\n",
    "# Create the XGBoost model object\n",
    "xgb_model = xgb.XGBClassifier()\n",
    "\n",
    "# Create the GridSearchCV object\n",
    "grid_search = GridSearchCV(xgb_model, param_grid, cv=5, scoring='accuracy')\n",
    "\n",
    "# Fit the GridSearchCV object to the training data\n",
    "grid_search.fit(X_train, y_train)\n",
    "\n",
    "# Print the best set of hyperparameters and the corresponding score\n",
    "print(\"Best set of hyperparameters: \", grid_search.best_params_)\n",
    "print(\"Best score: \", grid_search.best_score_)"
   ]
  },
  {
   "cell_type": "code",
   "execution_count": 228,
   "id": "bc9237ac-c1f7-44a3-b9dd-8c1d25067223",
   "metadata": {},
   "outputs": [],
   "source": [
    "xgb_model = xgb.XGBClassifier(\n",
    "    objective='reg:squarederror',\n",
    "    n_estimators=100,\n",
    "    learning_rate=0.01,\n",
    "    max_depth=3,\n",
    "    subsample=0.5,\n",
    "    random_state=42)"
   ]
  },
  {
   "cell_type": "code",
   "execution_count": 230,
   "id": "9d5f834a-b425-4eaf-983c-13bcd4b10a3d",
   "metadata": {},
   "outputs": [],
   "source": [
    "xgb_model.fit(X_train, y_train)\n",
    "\n",
    "# Make predictions on the test set\n",
    "y_pred = xgb_model.predict(X_test)"
   ]
  },
  {
   "cell_type": "code",
   "execution_count": 232,
   "id": "09a5035f-91e4-43d1-870c-41f8b1de7c5d",
   "metadata": {},
   "outputs": [
    {
     "name": "stdout",
     "output_type": "stream",
     "text": [
      "Accuracy: 0.94\n",
      "Classification Report:\n",
      "              precision    recall  f1-score   support\n",
      "\n",
      "           0       0.82      0.98      0.89       363\n",
      "           1       0.98      0.83      0.90       475\n",
      "\n",
      "    accuracy                           0.90       838\n",
      "   macro avg       0.90      0.91      0.90       838\n",
      "weighted avg       0.91      0.90      0.90       838\n",
      "\n",
      "Confusion Matrix:\n",
      "[[357   6]\n",
      " [ 81 394]]\n"
     ]
    }
   ],
   "source": [
    "# Calculate and print the accuracy\n",
    "accuracy_XGB = accuracy_score(y_test, y_pred)\n",
    "print(f\"Accuracy: {accuracy:.2f}\")\n",
    "# Print classification report\n",
    "print('Classification Report:')\n",
    "print(classification_report(y_test, y_pred))\n",
    "\n",
    "# Print confusion matrix\n",
    "print('Confusion Matrix:')\n",
    "print(confusion_matrix(y_test, y_pred))"
   ]
  },
  {
   "cell_type": "code",
   "execution_count": 234,
   "id": "9016f024-b23d-4008-b904-8168fa35e3f3",
   "metadata": {},
   "outputs": [
    {
     "name": "stdout",
     "output_type": "stream",
     "text": [
      "Recall score: 0.8294736842105264\n",
      "Precision score: 0.985\n",
      "F1 score: 0.8965924370874627\n"
     ]
    }
   ],
   "source": [
    "print(\"Recall score:\", recall_score(y_test, y_pred))\n",
    "print(\"Precision score:\", precision_score(y_test, y_pred))\n",
    "\n",
    "f1_XGB =f1_score(y_test, y_pred,average='weighted')\n",
    "print(\"F1 score:\",f1_XGB)"
   ]
  },
  {
   "cell_type": "code",
   "execution_count": 236,
   "id": "f0bd17cd-7b64-4772-a17a-42952b7c1a98",
   "metadata": {},
   "outputs": [
    {
     "data": {
      "image/png": "[encoded data removed]",
      "text/plain": [
       "<Figure size 1000x600 with 1 Axes>"
      ]
     },
     "metadata": {},
     "output_type": "display_data"
    }
   ],
   "source": [
    "# F1 scores for each model\n",
    "f1_scores = {\n",
    "    'Random Forest': f1_rf,\n",
    "    'XGBoost':f1_XGB\n",
    "}\n",
    "\n",
    "# Plotting the F1 scores\n",
    "plt.figure(figsize=(10, 6))\n",
    "plt.bar(f1_scores.keys(), f1_scores.values(), color=['blue', 'pink'])\n",
    "plt.xlabel('Model')\n",
    "plt.ylabel('F1 Score')\n",
    "plt.title('Comparison of F1 Scores for Different Models')\n",
    "plt.ylim(0, 1)\n",
    "plt.show()"
   ]
  },
  {
   "cell_type": "code",
   "execution_count": null,
   "id": "5352d186-726d-448a-92e0-5a618d33af56",
   "metadata": {},
   "outputs": [],
   "source": []
  }
 ],
 "metadata": {
  "kernelspec": {
   "display_name": "Python 3 (ipykernel)",
   "language": "python",
   "name": "python3"
  },
  "language_info": {
   "codemirror_mode": {
    "name": "ipython",
    "version": 3
   },
   "file_extension": ".py",
   "mimetype": "text/x-python",
   "name": "python",
   "nbconvert_exporter": "python",
   "pygments_lexer": "ipython3",
   "version": "3.12.7"
  }
 },
 "nbformat": 4,
 "nbformat_minor": 5
}
